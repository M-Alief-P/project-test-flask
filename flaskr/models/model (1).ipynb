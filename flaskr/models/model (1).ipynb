{
  "cells": [
    {
      "cell_type": "code",
      "execution_count": 21,
      "metadata": {
        "id": "PtSn4jLDdfTt"
      },
      "outputs": [],
      "source": [
        "import pandas as pd\n",
        "import numpy as np\n",
        "import seaborn as sns\n",
        "import matplotlib.pyplot as plt\n",
        "from math import radians, sin, cos, sqrt, atan2\n",
        "from joblib import dump, load\n",
        "from sklearn.neighbors import NearestNeighbors\n",
        "from sklearn.metrics import mean_squared_error\n",
        "import tensorflow as tf\n",
        "from tensorflow.keras.models import Sequential\n",
        "from tensorflow.keras.layers import Dense\n",
        "from sklearn.cluster import KMeans\n",
        "from sklearn.preprocessing import StandardScaler\n",
        "from sklearn.model_selection import train_test_split\n",
        "from tensorflow.keras.utils import to_categorical\n",
        "import tensorflow as tf\n"
      ]
    },
    {
      "cell_type": "code",
      "execution_count": 22,
      "metadata": {
        "colab": {
          "base_uri": "https://localhost:8080/",
          "height": 36
        },
        "id": "f4XqQrRCzxI2",
        "outputId": "c817d971-90d0-495f-f863-278ce7e9ca8a"
      },
      "outputs": [
        {
          "output_type": "display_data",
          "data": {
            "text/plain": [
              "<IPython.core.display.HTML object>"
            ],
            "text/html": [
              "\n",
              "     <input type=\"file\" id=\"files-5567abc8-6601-4c5e-b815-b95f2c9bc7aa\" name=\"files[]\" multiple disabled\n",
              "        style=\"border:none\" />\n",
              "     <output id=\"result-5567abc8-6601-4c5e-b815-b95f2c9bc7aa\">\n",
              "      Upload widget is only available when the cell has been executed in the\n",
              "      current browser session. Please rerun this cell to enable.\n",
              "      </output>\n",
              "      <script>// Copyright 2017 Google LLC\n",
              "//\n",
              "// Licensed under the Apache License, Version 2.0 (the \"License\");\n",
              "// you may not use this file except in compliance with the License.\n",
              "// You may obtain a copy of the License at\n",
              "//\n",
              "//      http://www.apache.org/licenses/LICENSE-2.0\n",
              "//\n",
              "// Unless required by applicable law or agreed to in writing, software\n",
              "// distributed under the License is distributed on an \"AS IS\" BASIS,\n",
              "// WITHOUT WARRANTIES OR CONDITIONS OF ANY KIND, either express or implied.\n",
              "// See the License for the specific language governing permissions and\n",
              "// limitations under the License.\n",
              "\n",
              "/**\n",
              " * @fileoverview Helpers for google.colab Python module.\n",
              " */\n",
              "(function(scope) {\n",
              "function span(text, styleAttributes = {}) {\n",
              "  const element = document.createElement('span');\n",
              "  element.textContent = text;\n",
              "  for (const key of Object.keys(styleAttributes)) {\n",
              "    element.style[key] = styleAttributes[key];\n",
              "  }\n",
              "  return element;\n",
              "}\n",
              "\n",
              "// Max number of bytes which will be uploaded at a time.\n",
              "const MAX_PAYLOAD_SIZE = 100 * 1024;\n",
              "\n",
              "function _uploadFiles(inputId, outputId) {\n",
              "  const steps = uploadFilesStep(inputId, outputId);\n",
              "  const outputElement = document.getElementById(outputId);\n",
              "  // Cache steps on the outputElement to make it available for the next call\n",
              "  // to uploadFilesContinue from Python.\n",
              "  outputElement.steps = steps;\n",
              "\n",
              "  return _uploadFilesContinue(outputId);\n",
              "}\n",
              "\n",
              "// This is roughly an async generator (not supported in the browser yet),\n",
              "// where there are multiple asynchronous steps and the Python side is going\n",
              "// to poll for completion of each step.\n",
              "// This uses a Promise to block the python side on completion of each step,\n",
              "// then passes the result of the previous step as the input to the next step.\n",
              "function _uploadFilesContinue(outputId) {\n",
              "  const outputElement = document.getElementById(outputId);\n",
              "  const steps = outputElement.steps;\n",
              "\n",
              "  const next = steps.next(outputElement.lastPromiseValue);\n",
              "  return Promise.resolve(next.value.promise).then((value) => {\n",
              "    // Cache the last promise value to make it available to the next\n",
              "    // step of the generator.\n",
              "    outputElement.lastPromiseValue = value;\n",
              "    return next.value.response;\n",
              "  });\n",
              "}\n",
              "\n",
              "/**\n",
              " * Generator function which is called between each async step of the upload\n",
              " * process.\n",
              " * @param {string} inputId Element ID of the input file picker element.\n",
              " * @param {string} outputId Element ID of the output display.\n",
              " * @return {!Iterable<!Object>} Iterable of next steps.\n",
              " */\n",
              "function* uploadFilesStep(inputId, outputId) {\n",
              "  const inputElement = document.getElementById(inputId);\n",
              "  inputElement.disabled = false;\n",
              "\n",
              "  const outputElement = document.getElementById(outputId);\n",
              "  outputElement.innerHTML = '';\n",
              "\n",
              "  const pickedPromise = new Promise((resolve) => {\n",
              "    inputElement.addEventListener('change', (e) => {\n",
              "      resolve(e.target.files);\n",
              "    });\n",
              "  });\n",
              "\n",
              "  const cancel = document.createElement('button');\n",
              "  inputElement.parentElement.appendChild(cancel);\n",
              "  cancel.textContent = 'Cancel upload';\n",
              "  const cancelPromise = new Promise((resolve) => {\n",
              "    cancel.onclick = () => {\n",
              "      resolve(null);\n",
              "    };\n",
              "  });\n",
              "\n",
              "  // Wait for the user to pick the files.\n",
              "  const files = yield {\n",
              "    promise: Promise.race([pickedPromise, cancelPromise]),\n",
              "    response: {\n",
              "      action: 'starting',\n",
              "    }\n",
              "  };\n",
              "\n",
              "  cancel.remove();\n",
              "\n",
              "  // Disable the input element since further picks are not allowed.\n",
              "  inputElement.disabled = true;\n",
              "\n",
              "  if (!files) {\n",
              "    return {\n",
              "      response: {\n",
              "        action: 'complete',\n",
              "      }\n",
              "    };\n",
              "  }\n",
              "\n",
              "  for (const file of files) {\n",
              "    const li = document.createElement('li');\n",
              "    li.append(span(file.name, {fontWeight: 'bold'}));\n",
              "    li.append(span(\n",
              "        `(${file.type || 'n/a'}) - ${file.size} bytes, ` +\n",
              "        `last modified: ${\n",
              "            file.lastModifiedDate ? file.lastModifiedDate.toLocaleDateString() :\n",
              "                                    'n/a'} - `));\n",
              "    const percent = span('0% done');\n",
              "    li.appendChild(percent);\n",
              "\n",
              "    outputElement.appendChild(li);\n",
              "\n",
              "    const fileDataPromise = new Promise((resolve) => {\n",
              "      const reader = new FileReader();\n",
              "      reader.onload = (e) => {\n",
              "        resolve(e.target.result);\n",
              "      };\n",
              "      reader.readAsArrayBuffer(file);\n",
              "    });\n",
              "    // Wait for the data to be ready.\n",
              "    let fileData = yield {\n",
              "      promise: fileDataPromise,\n",
              "      response: {\n",
              "        action: 'continue',\n",
              "      }\n",
              "    };\n",
              "\n",
              "    // Use a chunked sending to avoid message size limits. See b/62115660.\n",
              "    let position = 0;\n",
              "    do {\n",
              "      const length = Math.min(fileData.byteLength - position, MAX_PAYLOAD_SIZE);\n",
              "      const chunk = new Uint8Array(fileData, position, length);\n",
              "      position += length;\n",
              "\n",
              "      const base64 = btoa(String.fromCharCode.apply(null, chunk));\n",
              "      yield {\n",
              "        response: {\n",
              "          action: 'append',\n",
              "          file: file.name,\n",
              "          data: base64,\n",
              "        },\n",
              "      };\n",
              "\n",
              "      let percentDone = fileData.byteLength === 0 ?\n",
              "          100 :\n",
              "          Math.round((position / fileData.byteLength) * 100);\n",
              "      percent.textContent = `${percentDone}% done`;\n",
              "\n",
              "    } while (position < fileData.byteLength);\n",
              "  }\n",
              "\n",
              "  // All done.\n",
              "  yield {\n",
              "    response: {\n",
              "      action: 'complete',\n",
              "    }\n",
              "  };\n",
              "}\n",
              "\n",
              "scope.google = scope.google || {};\n",
              "scope.google.colab = scope.google.colab || {};\n",
              "scope.google.colab._files = {\n",
              "  _uploadFiles,\n",
              "  _uploadFilesContinue,\n",
              "};\n",
              "})(self);\n",
              "</script> "
            ]
          },
          "metadata": {}
        }
      ],
      "source": [
        "from google.colab import files\n",
        "uploaded = files.upload()"
      ]
    },
    {
      "cell_type": "code",
      "execution_count": 23,
      "metadata": {
        "id": "4useSCVUzkEe"
      },
      "outputs": [],
      "source": [
        "restaurant = pd.read_csv('restaurant.csv')\n",
        "provinsi = pd.read_csv('provinsi.csv')\n",
        "makanan_khas = pd.read_csv('makanan_khas.csv')\n",
        "rating = pd.read_csv('reting.csv')"
      ]
    },
    {
      "cell_type": "code",
      "execution_count": 24,
      "metadata": {
        "id": "uo3imGL10MzS"
      },
      "outputs": [],
      "source": [
        "restaurant_provinsi = pd.merge(restaurant, provinsi, on='id_provinsi')\n",
        "restaurant_provinsi_makanan_khas = pd.merge(restaurant_provinsi, makanan_khas, on='id_makanan')\n",
        "data_gabungan = pd.merge(restaurant_provinsi_makanan_khas, rating, on='id_reting')\n",
        "data_gabungan = data_gabungan[['id_restaurant','id_reting', 'nama_tempat', 'alamat', 'id_provinsi', 'nama_provinsi', 'id_makanan', 'harga', 'deskripsi', 'long', 'lat']]"
      ]
    },
    {
      "cell_type": "code",
      "execution_count": 25,
      "metadata": {
        "colab": {
          "base_uri": "https://localhost:8080/",
          "height": 568
        },
        "id": "qTWyX98t4-fh",
        "outputId": "6e5468f2-1d3e-44eb-b11a-5504ea0eeb82"
      },
      "outputs": [
        {
          "output_type": "display_data",
          "data": {
            "text/plain": [
              "<Figure size 1000x600 with 1 Axes>"
            ],
            "image/png": "[encoded data removed]"
          },
          "metadata": {}
        }
      ],
      "source": [
        "class_column = 'id_provinsi'\n",
        "plt.figure(figsize=(10, 6))\n",
        "sns.countplot(data=data_gabungan, x=class_column, order=data_gabungan[class_column].value_counts().index)\n",
        "plt.title('Distribusi Jumlah Sampel per Kelas')\n",
        "plt.xlabel('Kelas')\n",
        "plt.ylabel('Jumlah Sampel')\n",
        "plt.xticks(rotation=90)\n",
        "plt.show()"
      ]
    },
    {
      "cell_type": "code",
      "execution_count": 26,
      "metadata": {
        "colab": {
          "base_uri": "https://localhost:8080/"
        },
        "id": "uae5Ics483VN",
        "outputId": "0f5faa81-ca67-4702-a14c-86ecbb2e6cd9"
      },
      "outputs": [
        {
          "output_type": "stream",
          "name": "stdout",
          "text": [
            "Jumlah sampel per kelas:\n",
            "id_provinsi\n",
            "36    39\n",
            "35    36\n",
            "31    35\n",
            "33    35\n",
            "32    35\n",
            "34    35\n",
            "Name: count, dtype: int64\n"
          ]
        }
      ],
      "source": [
        "samples_per_class = data_gabungan[class_column].value_counts()\n",
        "print(f\"Jumlah sampel per kelas:\\n{samples_per_class}\")"
      ]
    },
    {
      "cell_type": "code",
      "execution_count": 27,
      "metadata": {
        "colab": {
          "base_uri": "https://localhost:8080/"
        },
        "id": "Q5ucSshq-D7Q",
        "outputId": "d771e1a8-9ee5-4d1b-aa82-9f0162ce36d3"
      },
      "outputs": [
        {
          "output_type": "stream",
          "name": "stdout",
          "text": [
            "Statistik Jumlah Sampel per Kelas:\n",
            "count     6.000000\n",
            "mean     35.833333\n",
            "std       1.602082\n",
            "min      35.000000\n",
            "25%      35.000000\n",
            "50%      35.000000\n",
            "75%      35.750000\n",
            "max      39.000000\n",
            "Name: count, dtype: float64\n",
            "Jumlah sampel minimal dalam satu kelas: 35\n",
            "Jumlah sampel maksimal dalam satu kelas: 39\n"
          ]
        }
      ],
      "source": [
        "samples_per_class = data_gabungan[class_column].value_counts()\n",
        "print(f\"Statistik Jumlah Sampel per Kelas:\\n{samples_per_class.describe()}\")\n",
        "print(f\"Jumlah sampel minimal dalam satu kelas: {samples_per_class.min()}\")\n",
        "print(f\"Jumlah sampel maksimal dalam satu kelas: {samples_per_class.max()}\")"
      ]
    },
    {
      "cell_type": "code",
      "execution_count": 28,
      "metadata": {
        "colab": {
          "base_uri": "https://localhost:8080/"
        },
        "id": "nY2EEj0q2GfM",
        "outputId": "400a0efb-98c0-4ad2-8732-cfde67d287dc"
      },
      "outputs": [
        {
          "output_type": "execute_result",
          "data": {
            "text/plain": [
              "id_restaurant    0\n",
              "id_reting        0\n",
              "nama_tempat      0\n",
              "alamat           0\n",
              "id_provinsi      0\n",
              "nama_provinsi    0\n",
              "id_makanan       0\n",
              "harga            0\n",
              "deskripsi        0\n",
              "long             0\n",
              "lat              0\n",
              "dtype: int64"
            ]
          },
          "metadata": {},
          "execution_count": 28
        }
      ],
      "source": [
        "data_gabungan.isnull().sum().sort_values(ascending = False)"
      ]
    },
    {
      "cell_type": "code",
      "execution_count": 29,
      "metadata": {
        "colab": {
          "base_uri": "https://localhost:8080/"
        },
        "id": "oTGA0MRI34ID",
        "outputId": "d11ad303-6ee8-48ca-e056-e237668b55d1"
      },
      "outputs": [
        {
          "output_type": "stream",
          "name": "stdout",
          "text": [
            "<class 'pandas.core.frame.DataFrame'>\n",
            "RangeIndex: 215 entries, 0 to 214\n",
            "Data columns (total 11 columns):\n",
            " #   Column         Non-Null Count  Dtype  \n",
            "---  ------         --------------  -----  \n",
            " 0   id_restaurant  215 non-null    int64  \n",
            " 1   id_reting      215 non-null    int64  \n",
            " 2   nama_tempat    215 non-null    object \n",
            " 3   alamat         215 non-null    object \n",
            " 4   id_provinsi    215 non-null    int64  \n",
            " 5   nama_provinsi  215 non-null    object \n",
            " 6   id_makanan     215 non-null    int64  \n",
            " 7   harga          215 non-null    object \n",
            " 8   deskripsi      215 non-null    object \n",
            " 9   long           215 non-null    float64\n",
            " 10  lat            215 non-null    float64\n",
            "dtypes: float64(2), int64(4), object(5)\n",
            "memory usage: 18.6+ KB\n"
          ]
        }
      ],
      "source": [
        "data_gabungan.info()"
      ]
    },
    {
      "cell_type": "code",
      "execution_count": 30,
      "metadata": {
        "colab": {
          "base_uri": "https://localhost:8080/"
        },
        "id": "a-2sKDha3__F",
        "outputId": "e065403e-8c42-4c67-a8ca-83447cb4f1ac"
      },
      "outputs": [
        {
          "output_type": "execute_result",
          "data": {
            "text/plain": [
              "0"
            ]
          },
          "metadata": {},
          "execution_count": 30
        }
      ],
      "source": [
        "data_gabungan.duplicated().sum()"
      ]
    },
    {
      "cell_type": "code",
      "execution_count": 31,
      "metadata": {
        "id": "4fyjhMfj8PCI"
      },
      "outputs": [],
      "source": [
        "def haversine(lat1, lon1, lat2, lon2):\n",
        "    R = 6371.0\n",
        "    dlat = radians(lat2 - lat1)\n",
        "    dlon = radians(lon2 - lon1)\n",
        "    a = sin(dlat / 2)**2 + cos(radians(lat1)) * cos(radians(lat2)) * sin(dlon / 2)**2\n",
        "    c = 2 * atan2(sqrt(a), sqrt(1 - a))\n",
        "    distance = R * c\n",
        "    return distance\n",
        "\n",
        "user_lat = -6.200000\n",
        "user_lon = 106.816666\n",
        "\n",
        "data_gabungan['distance'] = data_gabungan.apply(lambda row: haversine(user_lat, user_lon, row['lat'], row['long']), axis=1)\n",
        "\n",
        "# Filter restoran yang berjarak maksimal 20 km\n",
        "filtered_restaurants = data_gabungan[data_gabungan['distance'] <= 20]"
      ]
    },
    {
      "cell_type": "code",
      "execution_count": 32,
      "metadata": {
        "colab": {
          "base_uri": "https://localhost:8080/"
        },
        "id": "PfOAEFxB_WI-",
        "outputId": "602c969e-5485-41d9-c53c-c4b8fea2ceb4"
      },
      "outputs": [
        {
          "output_type": "stream",
          "name": "stdout",
          "text": [
            "Epoch 1/150\n"
          ]
        },
        {
          "output_type": "stream",
          "name": "stderr",
          "text": [
            "/usr/local/lib/python3.10/dist-packages/sklearn/cluster/_kmeans.py:870: FutureWarning: The default value of `n_init` will change from 10 to 'auto' in 1.4. Set the value of `n_init` explicitly to suppress the warning\n",
            "  warnings.warn(\n",
            "<ipython-input-32-f057e6904fdc>:7: SettingWithCopyWarning: \n",
            "A value is trying to be set on a copy of a slice from a DataFrame.\n",
            "Try using .loc[row_indexer,col_indexer] = value instead\n",
            "\n",
            "See the caveats in the documentation: https://pandas.pydata.org/pandas-docs/stable/user_guide/indexing.html#returning-a-view-versus-a-copy\n",
            "  filtered_restaurants['cluster'] = kmeans.fit_predict(scaled_features)\n"
          ]
        },
        {
          "output_type": "stream",
          "name": "stdout",
          "text": [
            "1/1 - 1s - loss: 1.5928 - accuracy: 0.2273 - val_loss: 1.6205 - val_accuracy: 0.1667 - 1s/epoch - 1s/step\n",
            "Epoch 2/150\n",
            "1/1 - 0s - loss: 1.5567 - accuracy: 0.3182 - val_loss: 1.5984 - val_accuracy: 0.3333 - 32ms/epoch - 32ms/step\n",
            "Epoch 3/150\n",
            "1/1 - 0s - loss: 1.5217 - accuracy: 0.6818 - val_loss: 1.5763 - val_accuracy: 0.5000 - 31ms/epoch - 31ms/step\n",
            "Epoch 4/150\n",
            "1/1 - 0s - loss: 1.4880 - accuracy: 0.8182 - val_loss: 1.5541 - val_accuracy: 0.5000 - 37ms/epoch - 37ms/step\n",
            "Epoch 5/150\n",
            "1/1 - 0s - loss: 1.4554 - accuracy: 0.8182 - val_loss: 1.5319 - val_accuracy: 0.5000 - 56ms/epoch - 56ms/step\n",
            "Epoch 6/150\n",
            "1/1 - 0s - loss: 1.4239 - accuracy: 0.8182 - val_loss: 1.5094 - val_accuracy: 0.5000 - 37ms/epoch - 37ms/step\n",
            "Epoch 7/150\n",
            "1/1 - 0s - loss: 1.3926 - accuracy: 0.8182 - val_loss: 1.4875 - val_accuracy: 0.6667 - 32ms/epoch - 32ms/step\n",
            "Epoch 8/150\n",
            "1/1 - 0s - loss: 1.3616 - accuracy: 0.8182 - val_loss: 1.4663 - val_accuracy: 0.6667 - 32ms/epoch - 32ms/step\n",
            "Epoch 9/150\n",
            "1/1 - 0s - loss: 1.3309 - accuracy: 0.8182 - val_loss: 1.4448 - val_accuracy: 0.6667 - 34ms/epoch - 34ms/step\n",
            "Epoch 10/150\n",
            "1/1 - 0s - loss: 1.3005 - accuracy: 0.8182 - val_loss: 1.4230 - val_accuracy: 0.6667 - 37ms/epoch - 37ms/step\n",
            "Epoch 11/150\n",
            "1/1 - 0s - loss: 1.2701 - accuracy: 0.8182 - val_loss: 1.4016 - val_accuracy: 0.6667 - 35ms/epoch - 35ms/step\n",
            "Epoch 12/150\n",
            "1/1 - 0s - loss: 1.2402 - accuracy: 0.8182 - val_loss: 1.3804 - val_accuracy: 0.6667 - 32ms/epoch - 32ms/step\n",
            "Epoch 13/150\n",
            "1/1 - 0s - loss: 1.2105 - accuracy: 0.8182 - val_loss: 1.3593 - val_accuracy: 0.6667 - 34ms/epoch - 34ms/step\n",
            "Epoch 14/150\n",
            "1/1 - 0s - loss: 1.1811 - accuracy: 0.8636 - val_loss: 1.3382 - val_accuracy: 0.6667 - 51ms/epoch - 51ms/step\n",
            "Epoch 15/150\n",
            "1/1 - 0s - loss: 1.1522 - accuracy: 0.8636 - val_loss: 1.3173 - val_accuracy: 0.6667 - 33ms/epoch - 33ms/step\n",
            "Epoch 16/150\n",
            "1/1 - 0s - loss: 1.1241 - accuracy: 0.8636 - val_loss: 1.2965 - val_accuracy: 0.6667 - 32ms/epoch - 32ms/step\n",
            "Epoch 17/150\n",
            "1/1 - 0s - loss: 1.0962 - accuracy: 0.8636 - val_loss: 1.2756 - val_accuracy: 0.6667 - 31ms/epoch - 31ms/step\n",
            "Epoch 18/150\n",
            "1/1 - 0s - loss: 1.0686 - accuracy: 0.8636 - val_loss: 1.2546 - val_accuracy: 0.6667 - 33ms/epoch - 33ms/step\n",
            "Epoch 19/150\n",
            "1/1 - 0s - loss: 1.0413 - accuracy: 0.8636 - val_loss: 1.2337 - val_accuracy: 0.6667 - 33ms/epoch - 33ms/step\n",
            "Epoch 20/150\n",
            "1/1 - 0s - loss: 1.0141 - accuracy: 0.8636 - val_loss: 1.2133 - val_accuracy: 0.6667 - 36ms/epoch - 36ms/step\n",
            "Epoch 21/150\n",
            "1/1 - 0s - loss: 0.9872 - accuracy: 0.8636 - val_loss: 1.1935 - val_accuracy: 0.6667 - 37ms/epoch - 37ms/step\n",
            "Epoch 22/150\n",
            "1/1 - 0s - loss: 0.9606 - accuracy: 0.8636 - val_loss: 1.1741 - val_accuracy: 0.6667 - 37ms/epoch - 37ms/step\n",
            "Epoch 23/150\n",
            "1/1 - 0s - loss: 0.9343 - accuracy: 0.8636 - val_loss: 1.1550 - val_accuracy: 0.6667 - 54ms/epoch - 54ms/step\n",
            "Epoch 24/150\n",
            "1/1 - 0s - loss: 0.9084 - accuracy: 0.8636 - val_loss: 1.1363 - val_accuracy: 0.6667 - 40ms/epoch - 40ms/step\n",
            "Epoch 25/150\n",
            "1/1 - 0s - loss: 0.8829 - accuracy: 0.8636 - val_loss: 1.1181 - val_accuracy: 0.6667 - 37ms/epoch - 37ms/step\n",
            "Epoch 26/150\n",
            "1/1 - 0s - loss: 0.8577 - accuracy: 0.8636 - val_loss: 1.1005 - val_accuracy: 0.6667 - 38ms/epoch - 38ms/step\n",
            "Epoch 27/150\n",
            "1/1 - 0s - loss: 0.8331 - accuracy: 0.8636 - val_loss: 1.0835 - val_accuracy: 0.6667 - 32ms/epoch - 32ms/step\n",
            "Epoch 28/150\n",
            "1/1 - 0s - loss: 0.8091 - accuracy: 0.8636 - val_loss: 1.0669 - val_accuracy: 0.6667 - 35ms/epoch - 35ms/step\n",
            "Epoch 29/150\n",
            "1/1 - 0s - loss: 0.7856 - accuracy: 0.8636 - val_loss: 1.0509 - val_accuracy: 0.6667 - 52ms/epoch - 52ms/step\n",
            "Epoch 30/150\n",
            "1/1 - 0s - loss: 0.7626 - accuracy: 0.8636 - val_loss: 1.0355 - val_accuracy: 0.6667 - 54ms/epoch - 54ms/step\n",
            "Epoch 31/150\n",
            "1/1 - 0s - loss: 0.7404 - accuracy: 0.8636 - val_loss: 1.0205 - val_accuracy: 0.6667 - 43ms/epoch - 43ms/step\n",
            "Epoch 32/150\n",
            "1/1 - 0s - loss: 0.7189 - accuracy: 0.8636 - val_loss: 1.0062 - val_accuracy: 0.6667 - 42ms/epoch - 42ms/step\n",
            "Epoch 33/150\n",
            "1/1 - 0s - loss: 0.6983 - accuracy: 0.8636 - val_loss: 0.9926 - val_accuracy: 0.6667 - 43ms/epoch - 43ms/step\n",
            "Epoch 34/150\n",
            "1/1 - 0s - loss: 0.6784 - accuracy: 0.8636 - val_loss: 0.9796 - val_accuracy: 0.6667 - 43ms/epoch - 43ms/step\n",
            "Epoch 35/150\n",
            "1/1 - 0s - loss: 0.6591 - accuracy: 0.8636 - val_loss: 0.9670 - val_accuracy: 0.6667 - 41ms/epoch - 41ms/step\n",
            "Epoch 36/150\n",
            "1/1 - 0s - loss: 0.6407 - accuracy: 0.8636 - val_loss: 0.9546 - val_accuracy: 0.6667 - 44ms/epoch - 44ms/step\n",
            "Epoch 37/150\n",
            "1/1 - 0s - loss: 0.6230 - accuracy: 0.8636 - val_loss: 0.9426 - val_accuracy: 0.6667 - 49ms/epoch - 49ms/step\n",
            "Epoch 38/150\n",
            "1/1 - 0s - loss: 0.6060 - accuracy: 0.8636 - val_loss: 0.9310 - val_accuracy: 0.6667 - 30ms/epoch - 30ms/step\n",
            "Epoch 39/150\n",
            "1/1 - 0s - loss: 0.5898 - accuracy: 0.8636 - val_loss: 0.9197 - val_accuracy: 0.6667 - 35ms/epoch - 35ms/step\n",
            "Epoch 40/150\n",
            "1/1 - 0s - loss: 0.5742 - accuracy: 0.8636 - val_loss: 0.9088 - val_accuracy: 0.6667 - 33ms/epoch - 33ms/step\n",
            "Epoch 41/150\n",
            "1/1 - 0s - loss: 0.5592 - accuracy: 0.8636 - val_loss: 0.8978 - val_accuracy: 0.6667 - 35ms/epoch - 35ms/step\n",
            "Epoch 42/150\n",
            "1/1 - 0s - loss: 0.5450 - accuracy: 0.8636 - val_loss: 0.8867 - val_accuracy: 0.6667 - 32ms/epoch - 32ms/step\n",
            "Epoch 43/150\n",
            "1/1 - 0s - loss: 0.5314 - accuracy: 0.8636 - val_loss: 0.8757 - val_accuracy: 0.6667 - 31ms/epoch - 31ms/step\n",
            "Epoch 44/150\n",
            "1/1 - 0s - loss: 0.5184 - accuracy: 0.8636 - val_loss: 0.8648 - val_accuracy: 0.6667 - 33ms/epoch - 33ms/step\n",
            "Epoch 45/150\n",
            "1/1 - 0s - loss: 0.5059 - accuracy: 0.8636 - val_loss: 0.8540 - val_accuracy: 0.6667 - 34ms/epoch - 34ms/step\n",
            "Epoch 46/150\n",
            "1/1 - 0s - loss: 0.4938 - accuracy: 0.8636 - val_loss: 0.8433 - val_accuracy: 0.6667 - 34ms/epoch - 34ms/step\n",
            "Epoch 47/150\n",
            "1/1 - 0s - loss: 0.4822 - accuracy: 0.8636 - val_loss: 0.8330 - val_accuracy: 0.6667 - 53ms/epoch - 53ms/step\n",
            "Epoch 48/150\n",
            "1/1 - 0s - loss: 0.4711 - accuracy: 0.8636 - val_loss: 0.8227 - val_accuracy: 0.6667 - 36ms/epoch - 36ms/step\n",
            "Epoch 49/150\n",
            "1/1 - 0s - loss: 0.4603 - accuracy: 0.8636 - val_loss: 0.8125 - val_accuracy: 0.6667 - 32ms/epoch - 32ms/step\n",
            "Epoch 50/150\n",
            "1/1 - 0s - loss: 0.4499 - accuracy: 0.8636 - val_loss: 0.8022 - val_accuracy: 0.6667 - 35ms/epoch - 35ms/step\n",
            "Epoch 51/150\n",
            "1/1 - 0s - loss: 0.4398 - accuracy: 0.8636 - val_loss: 0.7920 - val_accuracy: 0.6667 - 33ms/epoch - 33ms/step\n",
            "Epoch 52/150\n",
            "1/1 - 0s - loss: 0.4300 - accuracy: 0.8636 - val_loss: 0.7819 - val_accuracy: 0.6667 - 39ms/epoch - 39ms/step\n",
            "Epoch 53/150\n",
            "1/1 - 0s - loss: 0.4205 - accuracy: 0.8636 - val_loss: 0.7717 - val_accuracy: 0.6667 - 57ms/epoch - 57ms/step\n",
            "Epoch 54/150\n",
            "1/1 - 0s - loss: 0.4112 - accuracy: 0.8636 - val_loss: 0.7614 - val_accuracy: 0.6667 - 41ms/epoch - 41ms/step\n",
            "Epoch 55/150\n",
            "1/1 - 0s - loss: 0.4021 - accuracy: 0.8636 - val_loss: 0.7508 - val_accuracy: 0.6667 - 61ms/epoch - 61ms/step\n",
            "Epoch 56/150\n",
            "1/1 - 0s - loss: 0.3933 - accuracy: 0.8636 - val_loss: 0.7399 - val_accuracy: 0.6667 - 50ms/epoch - 50ms/step\n",
            "Epoch 57/150\n",
            "1/1 - 0s - loss: 0.3849 - accuracy: 0.9091 - val_loss: 0.7293 - val_accuracy: 0.6667 - 56ms/epoch - 56ms/step\n",
            "Epoch 58/150\n",
            "1/1 - 0s - loss: 0.3768 - accuracy: 0.9091 - val_loss: 0.7189 - val_accuracy: 0.6667 - 59ms/epoch - 59ms/step\n",
            "Epoch 59/150\n",
            "1/1 - 0s - loss: 0.3690 - accuracy: 0.9091 - val_loss: 0.7089 - val_accuracy: 0.6667 - 48ms/epoch - 48ms/step\n",
            "Epoch 60/150\n",
            "1/1 - 0s - loss: 0.3613 - accuracy: 0.9091 - val_loss: 0.6991 - val_accuracy: 0.6667 - 40ms/epoch - 40ms/step\n",
            "Epoch 61/150\n",
            "1/1 - 0s - loss: 0.3538 - accuracy: 0.9091 - val_loss: 0.6896 - val_accuracy: 0.6667 - 45ms/epoch - 45ms/step\n",
            "Epoch 62/150\n",
            "1/1 - 0s - loss: 0.3464 - accuracy: 0.9091 - val_loss: 0.6803 - val_accuracy: 0.6667 - 65ms/epoch - 65ms/step\n",
            "Epoch 63/150\n",
            "1/1 - 0s - loss: 0.3393 - accuracy: 0.9545 - val_loss: 0.6713 - val_accuracy: 0.6667 - 64ms/epoch - 64ms/step\n",
            "Epoch 64/150\n",
            "1/1 - 0s - loss: 0.3324 - accuracy: 0.9545 - val_loss: 0.6625 - val_accuracy: 0.6667 - 61ms/epoch - 61ms/step\n",
            "Epoch 65/150\n",
            "1/1 - 0s - loss: 0.3257 - accuracy: 0.9545 - val_loss: 0.6541 - val_accuracy: 0.6667 - 67ms/epoch - 67ms/step\n",
            "Epoch 66/150\n",
            "1/1 - 0s - loss: 0.3193 - accuracy: 0.9545 - val_loss: 0.6459 - val_accuracy: 0.6667 - 54ms/epoch - 54ms/step\n",
            "Epoch 67/150\n",
            "1/1 - 0s - loss: 0.3130 - accuracy: 0.9545 - val_loss: 0.6382 - val_accuracy: 0.6667 - 57ms/epoch - 57ms/step\n",
            "Epoch 68/150\n",
            "1/1 - 0s - loss: 0.3069 - accuracy: 0.9545 - val_loss: 0.6308 - val_accuracy: 0.6667 - 65ms/epoch - 65ms/step\n",
            "Epoch 69/150\n",
            "1/1 - 0s - loss: 0.3009 - accuracy: 0.9545 - val_loss: 0.6236 - val_accuracy: 0.6667 - 84ms/epoch - 84ms/step\n",
            "Epoch 70/150\n",
            "1/1 - 0s - loss: 0.2950 - accuracy: 0.9545 - val_loss: 0.6166 - val_accuracy: 0.6667 - 83ms/epoch - 83ms/step\n",
            "Epoch 71/150\n",
            "1/1 - 0s - loss: 0.2893 - accuracy: 0.9545 - val_loss: 0.6097 - val_accuracy: 0.6667 - 72ms/epoch - 72ms/step\n",
            "Epoch 72/150\n",
            "1/1 - 0s - loss: 0.2837 - accuracy: 0.9545 - val_loss: 0.6031 - val_accuracy: 0.6667 - 66ms/epoch - 66ms/step\n",
            "Epoch 73/150\n",
            "1/1 - 0s - loss: 0.2783 - accuracy: 0.9545 - val_loss: 0.5965 - val_accuracy: 0.6667 - 62ms/epoch - 62ms/step\n",
            "Epoch 74/150\n",
            "1/1 - 0s - loss: 0.2729 - accuracy: 0.9545 - val_loss: 0.5901 - val_accuracy: 0.6667 - 60ms/epoch - 60ms/step\n",
            "Epoch 75/150\n",
            "1/1 - 0s - loss: 0.2676 - accuracy: 0.9545 - val_loss: 0.5837 - val_accuracy: 0.6667 - 42ms/epoch - 42ms/step\n",
            "Epoch 76/150\n",
            "1/1 - 0s - loss: 0.2624 - accuracy: 0.9545 - val_loss: 0.5773 - val_accuracy: 0.6667 - 64ms/epoch - 64ms/step\n",
            "Epoch 77/150\n",
            "1/1 - 0s - loss: 0.2573 - accuracy: 0.9545 - val_loss: 0.5709 - val_accuracy: 0.6667 - 62ms/epoch - 62ms/step\n",
            "Epoch 78/150\n",
            "1/1 - 0s - loss: 0.2523 - accuracy: 0.9545 - val_loss: 0.5645 - val_accuracy: 0.6667 - 61ms/epoch - 61ms/step\n",
            "Epoch 79/150\n",
            "1/1 - 0s - loss: 0.2475 - accuracy: 0.9545 - val_loss: 0.5583 - val_accuracy: 0.6667 - 62ms/epoch - 62ms/step\n",
            "Epoch 80/150\n",
            "1/1 - 0s - loss: 0.2427 - accuracy: 0.9545 - val_loss: 0.5523 - val_accuracy: 0.6667 - 65ms/epoch - 65ms/step\n",
            "Epoch 81/150\n",
            "1/1 - 0s - loss: 0.2380 - accuracy: 0.9545 - val_loss: 0.5464 - val_accuracy: 0.6667 - 71ms/epoch - 71ms/step\n",
            "Epoch 82/150\n",
            "1/1 - 0s - loss: 0.2334 - accuracy: 0.9545 - val_loss: 0.5406 - val_accuracy: 0.6667 - 60ms/epoch - 60ms/step\n",
            "Epoch 83/150\n",
            "1/1 - 0s - loss: 0.2290 - accuracy: 0.9545 - val_loss: 0.5349 - val_accuracy: 0.6667 - 65ms/epoch - 65ms/step\n",
            "Epoch 84/150\n",
            "1/1 - 0s - loss: 0.2245 - accuracy: 0.9545 - val_loss: 0.5292 - val_accuracy: 0.6667 - 61ms/epoch - 61ms/step\n",
            "Epoch 85/150\n",
            "1/1 - 0s - loss: 0.2202 - accuracy: 0.9545 - val_loss: 0.5235 - val_accuracy: 0.6667 - 77ms/epoch - 77ms/step\n",
            "Epoch 86/150\n",
            "1/1 - 0s - loss: 0.2160 - accuracy: 0.9545 - val_loss: 0.5176 - val_accuracy: 0.6667 - 62ms/epoch - 62ms/step\n",
            "Epoch 87/150\n",
            "1/1 - 0s - loss: 0.2119 - accuracy: 0.9545 - val_loss: 0.5116 - val_accuracy: 0.6667 - 54ms/epoch - 54ms/step\n",
            "Epoch 88/150\n",
            "1/1 - 0s - loss: 0.2078 - accuracy: 0.9545 - val_loss: 0.5054 - val_accuracy: 0.6667 - 50ms/epoch - 50ms/step\n",
            "Epoch 89/150\n",
            "1/1 - 0s - loss: 0.2038 - accuracy: 0.9545 - val_loss: 0.4992 - val_accuracy: 0.6667 - 59ms/epoch - 59ms/step\n",
            "Epoch 90/150\n",
            "1/1 - 0s - loss: 0.1998 - accuracy: 1.0000 - val_loss: 0.4929 - val_accuracy: 0.6667 - 68ms/epoch - 68ms/step\n",
            "Epoch 91/150\n",
            "1/1 - 0s - loss: 0.1960 - accuracy: 1.0000 - val_loss: 0.4868 - val_accuracy: 0.8333 - 65ms/epoch - 65ms/step\n",
            "Epoch 92/150\n",
            "1/1 - 0s - loss: 0.1922 - accuracy: 1.0000 - val_loss: 0.4808 - val_accuracy: 0.8333 - 61ms/epoch - 61ms/step\n",
            "Epoch 93/150\n",
            "1/1 - 0s - loss: 0.1884 - accuracy: 1.0000 - val_loss: 0.4751 - val_accuracy: 0.8333 - 41ms/epoch - 41ms/step\n",
            "Epoch 94/150\n",
            "1/1 - 0s - loss: 0.1848 - accuracy: 1.0000 - val_loss: 0.4694 - val_accuracy: 0.8333 - 58ms/epoch - 58ms/step\n",
            "Epoch 95/150\n",
            "1/1 - 0s - loss: 0.1812 - accuracy: 1.0000 - val_loss: 0.4639 - val_accuracy: 0.8333 - 60ms/epoch - 60ms/step\n",
            "Epoch 96/150\n",
            "1/1 - 0s - loss: 0.1776 - accuracy: 1.0000 - val_loss: 0.4585 - val_accuracy: 0.8333 - 46ms/epoch - 46ms/step\n",
            "Epoch 97/150\n",
            "1/1 - 0s - loss: 0.1741 - accuracy: 1.0000 - val_loss: 0.4532 - val_accuracy: 0.8333 - 43ms/epoch - 43ms/step\n",
            "Epoch 98/150\n",
            "1/1 - 0s - loss: 0.1707 - accuracy: 1.0000 - val_loss: 0.4480 - val_accuracy: 0.8333 - 42ms/epoch - 42ms/step\n",
            "Epoch 99/150\n",
            "1/1 - 0s - loss: 0.1674 - accuracy: 1.0000 - val_loss: 0.4428 - val_accuracy: 0.8333 - 54ms/epoch - 54ms/step\n",
            "Epoch 100/150\n",
            "1/1 - 0s - loss: 0.1641 - accuracy: 1.0000 - val_loss: 0.4376 - val_accuracy: 0.8333 - 72ms/epoch - 72ms/step\n",
            "Epoch 101/150\n",
            "1/1 - 0s - loss: 0.1608 - accuracy: 1.0000 - val_loss: 0.4325 - val_accuracy: 0.8333 - 78ms/epoch - 78ms/step\n",
            "Epoch 102/150\n",
            "1/1 - 0s - loss: 0.1577 - accuracy: 1.0000 - val_loss: 0.4276 - val_accuracy: 0.8333 - 81ms/epoch - 81ms/step\n",
            "Epoch 103/150\n",
            "1/1 - 0s - loss: 0.1545 - accuracy: 1.0000 - val_loss: 0.4229 - val_accuracy: 0.8333 - 59ms/epoch - 59ms/step\n",
            "Epoch 104/150\n",
            "1/1 - 0s - loss: 0.1515 - accuracy: 1.0000 - val_loss: 0.4182 - val_accuracy: 0.8333 - 61ms/epoch - 61ms/step\n",
            "Epoch 105/150\n",
            "1/1 - 0s - loss: 0.1485 - accuracy: 1.0000 - val_loss: 0.4137 - val_accuracy: 0.8333 - 61ms/epoch - 61ms/step\n",
            "Epoch 106/150\n",
            "1/1 - 0s - loss: 0.1456 - accuracy: 1.0000 - val_loss: 0.4092 - val_accuracy: 0.8333 - 68ms/epoch - 68ms/step\n",
            "Epoch 107/150\n",
            "1/1 - 0s - loss: 0.1427 - accuracy: 1.0000 - val_loss: 0.4049 - val_accuracy: 0.8333 - 45ms/epoch - 45ms/step\n",
            "Epoch 108/150\n",
            "1/1 - 0s - loss: 0.1399 - accuracy: 1.0000 - val_loss: 0.4005 - val_accuracy: 0.8333 - 33ms/epoch - 33ms/step\n",
            "Epoch 109/150\n",
            "1/1 - 0s - loss: 0.1371 - accuracy: 1.0000 - val_loss: 0.3961 - val_accuracy: 0.8333 - 32ms/epoch - 32ms/step\n",
            "Epoch 110/150\n",
            "1/1 - 0s - loss: 0.1344 - accuracy: 1.0000 - val_loss: 0.3918 - val_accuracy: 0.8333 - 32ms/epoch - 32ms/step\n",
            "Epoch 111/150\n",
            "1/1 - 0s - loss: 0.1318 - accuracy: 1.0000 - val_loss: 0.3876 - val_accuracy: 0.8333 - 33ms/epoch - 33ms/step\n",
            "Epoch 112/150\n",
            "1/1 - 0s - loss: 0.1293 - accuracy: 1.0000 - val_loss: 0.3835 - val_accuracy: 0.8333 - 32ms/epoch - 32ms/step\n",
            "Epoch 113/150\n",
            "1/1 - 0s - loss: 0.1267 - accuracy: 1.0000 - val_loss: 0.3794 - val_accuracy: 0.8333 - 50ms/epoch - 50ms/step\n",
            "Epoch 114/150\n",
            "1/1 - 0s - loss: 0.1242 - accuracy: 1.0000 - val_loss: 0.3755 - val_accuracy: 0.8333 - 36ms/epoch - 36ms/step\n",
            "Epoch 115/150\n",
            "1/1 - 0s - loss: 0.1218 - accuracy: 1.0000 - val_loss: 0.3716 - val_accuracy: 0.8333 - 32ms/epoch - 32ms/step\n",
            "Epoch 116/150\n",
            "1/1 - 0s - loss: 0.1194 - accuracy: 1.0000 - val_loss: 0.3678 - val_accuracy: 0.8333 - 34ms/epoch - 34ms/step\n",
            "Epoch 117/150\n",
            "1/1 - 0s - loss: 0.1171 - accuracy: 1.0000 - val_loss: 0.3639 - val_accuracy: 0.8333 - 62ms/epoch - 62ms/step\n",
            "Epoch 118/150\n",
            "1/1 - 0s - loss: 0.1148 - accuracy: 1.0000 - val_loss: 0.3601 - val_accuracy: 0.8333 - 57ms/epoch - 57ms/step\n",
            "Epoch 119/150\n",
            "1/1 - 0s - loss: 0.1125 - accuracy: 1.0000 - val_loss: 0.3565 - val_accuracy: 0.8333 - 43ms/epoch - 43ms/step\n",
            "Epoch 120/150\n",
            "1/1 - 0s - loss: 0.1103 - accuracy: 1.0000 - val_loss: 0.3532 - val_accuracy: 0.8333 - 55ms/epoch - 55ms/step\n",
            "Epoch 121/150\n",
            "1/1 - 0s - loss: 0.1082 - accuracy: 1.0000 - val_loss: 0.3501 - val_accuracy: 0.8333 - 41ms/epoch - 41ms/step\n",
            "Epoch 122/150\n",
            "1/1 - 0s - loss: 0.1061 - accuracy: 1.0000 - val_loss: 0.3473 - val_accuracy: 0.8333 - 35ms/epoch - 35ms/step\n",
            "Epoch 123/150\n",
            "1/1 - 0s - loss: 0.1041 - accuracy: 1.0000 - val_loss: 0.3445 - val_accuracy: 0.8333 - 43ms/epoch - 43ms/step\n",
            "Epoch 124/150\n",
            "1/1 - 0s - loss: 0.1021 - accuracy: 1.0000 - val_loss: 0.3416 - val_accuracy: 0.8333 - 32ms/epoch - 32ms/step\n",
            "Epoch 125/150\n",
            "1/1 - 0s - loss: 0.1002 - accuracy: 1.0000 - val_loss: 0.3387 - val_accuracy: 0.8333 - 33ms/epoch - 33ms/step\n",
            "Epoch 126/150\n",
            "1/1 - 0s - loss: 0.0983 - accuracy: 1.0000 - val_loss: 0.3357 - val_accuracy: 0.8333 - 32ms/epoch - 32ms/step\n",
            "Epoch 127/150\n",
            "1/1 - 0s - loss: 0.0964 - accuracy: 1.0000 - val_loss: 0.3328 - val_accuracy: 0.8333 - 32ms/epoch - 32ms/step\n",
            "Epoch 128/150\n",
            "1/1 - 0s - loss: 0.0946 - accuracy: 1.0000 - val_loss: 0.3298 - val_accuracy: 0.8333 - 32ms/epoch - 32ms/step\n",
            "Epoch 129/150\n",
            "1/1 - 0s - loss: 0.0928 - accuracy: 1.0000 - val_loss: 0.3269 - val_accuracy: 0.8333 - 33ms/epoch - 33ms/step\n",
            "Epoch 130/150\n",
            "1/1 - 0s - loss: 0.0910 - accuracy: 1.0000 - val_loss: 0.3241 - val_accuracy: 0.8333 - 38ms/epoch - 38ms/step\n",
            "Epoch 131/150\n",
            "1/1 - 0s - loss: 0.0893 - accuracy: 1.0000 - val_loss: 0.3212 - val_accuracy: 0.8333 - 35ms/epoch - 35ms/step\n",
            "Epoch 132/150\n",
            "1/1 - 0s - loss: 0.0876 - accuracy: 1.0000 - val_loss: 0.3184 - val_accuracy: 0.8333 - 35ms/epoch - 35ms/step\n",
            "Epoch 133/150\n",
            "1/1 - 0s - loss: 0.0859 - accuracy: 1.0000 - val_loss: 0.3156 - val_accuracy: 0.8333 - 35ms/epoch - 35ms/step\n",
            "Epoch 134/150\n",
            "1/1 - 0s - loss: 0.0843 - accuracy: 1.0000 - val_loss: 0.3131 - val_accuracy: 0.8333 - 34ms/epoch - 34ms/step\n",
            "Epoch 135/150\n",
            "1/1 - 0s - loss: 0.0827 - accuracy: 1.0000 - val_loss: 0.3106 - val_accuracy: 0.8333 - 36ms/epoch - 36ms/step\n",
            "Epoch 136/150\n",
            "1/1 - 0s - loss: 0.0811 - accuracy: 1.0000 - val_loss: 0.3082 - val_accuracy: 0.8333 - 34ms/epoch - 34ms/step\n",
            "Epoch 137/150\n",
            "1/1 - 0s - loss: 0.0796 - accuracy: 1.0000 - val_loss: 0.3060 - val_accuracy: 0.8333 - 36ms/epoch - 36ms/step\n",
            "Epoch 138/150\n",
            "1/1 - 0s - loss: 0.0780 - accuracy: 1.0000 - val_loss: 0.3038 - val_accuracy: 1.0000 - 33ms/epoch - 33ms/step\n",
            "Epoch 139/150\n",
            "1/1 - 0s - loss: 0.0765 - accuracy: 1.0000 - val_loss: 0.3017 - val_accuracy: 1.0000 - 32ms/epoch - 32ms/step\n",
            "Epoch 140/150\n",
            "1/1 - 0s - loss: 0.0751 - accuracy: 1.0000 - val_loss: 0.2995 - val_accuracy: 1.0000 - 37ms/epoch - 37ms/step\n",
            "Epoch 141/150\n",
            "1/1 - 0s - loss: 0.0736 - accuracy: 1.0000 - val_loss: 0.2975 - val_accuracy: 1.0000 - 58ms/epoch - 58ms/step\n",
            "Epoch 142/150\n",
            "1/1 - 0s - loss: 0.0722 - accuracy: 1.0000 - val_loss: 0.2956 - val_accuracy: 1.0000 - 40ms/epoch - 40ms/step\n",
            "Epoch 143/150\n",
            "1/1 - 0s - loss: 0.0709 - accuracy: 1.0000 - val_loss: 0.2935 - val_accuracy: 1.0000 - 41ms/epoch - 41ms/step\n",
            "Epoch 144/150\n",
            "1/1 - 0s - loss: 0.0695 - accuracy: 1.0000 - val_loss: 0.2914 - val_accuracy: 1.0000 - 53ms/epoch - 53ms/step\n",
            "Epoch 145/150\n",
            "1/1 - 0s - loss: 0.0682 - accuracy: 1.0000 - val_loss: 0.2893 - val_accuracy: 1.0000 - 56ms/epoch - 56ms/step\n",
            "Epoch 146/150\n",
            "1/1 - 0s - loss: 0.0669 - accuracy: 1.0000 - val_loss: 0.2871 - val_accuracy: 1.0000 - 58ms/epoch - 58ms/step\n",
            "Epoch 147/150\n",
            "1/1 - 0s - loss: 0.0656 - accuracy: 1.0000 - val_loss: 0.2848 - val_accuracy: 1.0000 - 46ms/epoch - 46ms/step\n",
            "Epoch 148/150\n",
            "1/1 - 0s - loss: 0.0643 - accuracy: 1.0000 - val_loss: 0.2825 - val_accuracy: 1.0000 - 35ms/epoch - 35ms/step\n",
            "Epoch 149/150\n",
            "1/1 - 0s - loss: 0.0631 - accuracy: 1.0000 - val_loss: 0.2803 - val_accuracy: 1.0000 - 34ms/epoch - 34ms/step\n",
            "Epoch 150/150\n",
            "1/1 - 0s - loss: 0.0619 - accuracy: 1.0000 - val_loss: 0.2782 - val_accuracy: 1.0000 - 55ms/epoch - 55ms/step\n"
          ]
        }
      ],
      "source": [
        "# Standardisasi fitur\n",
        "scaler = StandardScaler()\n",
        "scaled_features = scaler.fit_transform(filtered_restaurants[['lat', 'long']])\n",
        "\n",
        "# K-Means Clustering\n",
        "kmeans = KMeans(n_clusters=5, random_state=42)\n",
        "filtered_restaurants['cluster'] = kmeans.fit_predict(scaled_features)\n",
        "\n",
        "# Pisahkan data menjadi set pelatihan dan pengujian\n",
        "X_train, X_test, y_train, y_test = train_test_split(\n",
        "    scaled_features, filtered_restaurants['cluster'], test_size=0.2, random_state=42)\n",
        "\n",
        "# Mengonversi label ke bentuk categorical\n",
        "y_train_cat = to_categorical(y_train, num_classes=5)\n",
        "y_test_cat = to_categorical(y_test, num_classes=5)\n",
        "\n",
        "# Membangun model TensorFlow\n",
        "model = tf.keras.Sequential([\n",
        "    tf.keras.layers.Dense(128, activation='relu', input_shape=(2,)),\n",
        "    tf.keras.layers.Dense(64, activation='relu'),\n",
        "    tf.keras.layers.Dense(5, activation='softmax')\n",
        "])\n",
        "\n",
        "model.compile(optimizer='adam', loss='categorical_crossentropy', metrics=['accuracy'])\n",
        "\n",
        "# Melatih model\n",
        "history = model.fit(X_train, y_train_cat, epochs=150, validation_split=0.2, verbose=2)"
      ]
    },
    {
      "cell_type": "code",
      "execution_count": 33,
      "metadata": {
        "id": "9wvBS1LCAh5y",
        "colab": {
          "base_uri": "https://localhost:8080/"
        },
        "outputId": "1428354d-726a-4485-886a-75933e02d5bf"
      },
      "outputs": [
        {
          "output_type": "stream",
          "name": "stdout",
          "text": [
            "1/1 - 0s - loss: 0.1073 - accuracy: 1.0000 - 43ms/epoch - 43ms/step\n",
            "Akurasi set pelatihan: 1.00%, Loss set pelatihan: 0.11\n"
          ]
        }
      ],
      "source": [
        "# Evaluasi model pada set pelatihan\n",
        "train_loss, train_accuracy = model.evaluate(X_train, y_train_cat, verbose=2)\n",
        "print(f'Akurasi set pelatihan: {train_accuracy:.2f}%, Loss set pelatihan: {train_loss:.2f}')"
      ]
    },
    {
      "cell_type": "code",
      "source": [
        "# Evaluasi model pada set pengujian\n",
        "test_loss, test_accuracy = model.evaluate(X_test, y_test_cat, verbose=2)\n",
        "print('Akurasi model pada set pengujian: {:5.2f}%, Loss set pengujian: {:.2f}'.format(100 * test_accuracy, test_loss))"
      ],
      "metadata": {
        "colab": {
          "base_uri": "https://localhost:8080/"
        },
        "id": "qVzKwfSUJtFl",
        "outputId": "6e5fd8d4-43c6-414f-c3e4-2c524a8bb358"
      },
      "execution_count": 34,
      "outputs": [
        {
          "output_type": "stream",
          "name": "stdout",
          "text": [
            "1/1 - 0s - loss: 0.4032 - accuracy: 0.8571 - 73ms/epoch - 73ms/step\n",
            "Akurasi model pada set pengujian: 85.71%, Loss set pengujian: 0.40\n"
          ]
        }
      ]
    },
    {
      "cell_type": "code",
      "source": [
        "# Visualisasi kurva loss\n",
        "epochs = range(1, len(history.history['loss']) + 1)\n",
        "loss = history.history['loss']\n",
        "val_loss = history.history['val_loss']\n",
        "\n",
        "plt.plot(epochs, val_loss, '-', label='val_loss')\n",
        "plt.plot(epochs, loss, 'r-', label='loss')\n",
        "\n",
        "plt.xlabel('Epochs')\n",
        "plt.ylabel('Loss')\n",
        "plt.legend()\n",
        "\n",
        "plt.show()"
      ],
      "metadata": {
        "colab": {
          "base_uri": "https://localhost:8080/",
          "height": 449
        },
        "id": "EXRu6junS6w4",
        "outputId": "2758856f-89ed-444c-df76-d5eb8821bb3c"
      },
      "execution_count": 35,
      "outputs": [
        {
          "output_type": "display_data",
          "data": {
            "text/plain": [
              "<Figure size 640x480 with 1 Axes>"
            ],
            "image/png": "[encoded data removed]"
          },
          "metadata": {}
        }
      ]
    },
    {
      "cell_type": "code",
      "source": [
        "# Tampilkan hasil restoran yang berada dalam jarak 20 km\n",
        "print(\"Restoran yang berada dalam jarak 20 km dari pengguna:\")\n",
        "print(filtered_restaurants[['id_restaurant', 'id_reting', 'id_makanan', 'id_provinsi', 'nama_tempat', 'harga', 'alamat', 'deskripsi', 'long', 'lat', 'distance', 'cluster']].to_string(index=False))"
      ],
      "metadata": {
        "colab": {
          "base_uri": "https://localhost:8080/"
        },
        "id": "WzP6YoyrXHNy",
        "outputId": "c0cb0e48-1277-4927-8394-42b02fff517a"
      },
      "execution_count": 36,
      "outputs": [
        {
          "output_type": "stream",
          "name": "stdout",
          "text": [
            "Restoran yang berada dalam jarak 20 km dari pengguna:\n",
            " id_restaurant  id_reting  id_makanan  id_provinsi                                      nama_tempat                harga                                                                                                                                                                                               alamat                                                                                                                                 deskripsi       long       lat  distance  cluster\n",
            "            17         17           7           31                               Kerak telor Betawi  Rp.15.000 - R30.000                                                                 Jalan.H.Mali No.30, RT.9/RW.8, Srengseng Sawah, Kec. Jagakarsa, Kota Jakarta Selatan, Daerah Khusus Ibukota Jakarta 12630, Indonesia                    Makanan ini terbuat dari nasi yang dicampur dengan telur dan serundeng, dimasak dengan cara dibakar di atas tungku api 106.823141 -6.340648 15.655711        4\n",
            "            18         18           7           31                  KERAK TELOR KHAS BETAWI MAMPANG  Rp.15.000 - R30.000                                                                                                                                   RT.3/RW.5, Menteng, Central Jakarta City, Jakarta 10310, Indonesia                    Makanan ini terbuat dari nasi yang dicampur dengan telur dan serundeng, dimasak dengan cara dibakar di atas tungku api 106.828781 -6.197139  1.376517        2\n",
            "            19         19           7           31                           KERAK TELOR BANG DHORY  Rp.15.000 - R30.000                                                                      Jl. Wr. Jati Bar. IV, RT.14/RW.5, Kalibata, Kec. Pancoran, Kota Jakarta Selatan, Daerah Khusus Ibukota Jakarta 12740, Indonesia                    Makanan ini terbuat dari nasi yang dicampur dengan telur dan serundeng, dimasak dengan cara dibakar di atas tungku api 106.832581 -6.267864  7.748478        1\n",
            "           171        171           7           31                             Kerak Telor Bang Ade  Rp.15.000 - R30.000                                                                       Jl. Satria I No.261, RT.9/RW.2, Ujung Menteng, Kec. Cakung, Kota Jakarta Timur, Daerah Khusus Ibukota Jakarta 13960, Indonesia                    Makanan ini terbuat dari nasi yang dicampur dengan telur dan serundeng, dimasak dengan cara dibakar di atas tungku api 106.966314 -6.187385 16.602331        3\n",
            "           172        172           7           31                             Kerak Telor Pak Dudu  Rp.15.000 - R30.000                                                              Jl. Pejaten Barat II No.43 6, RT.6/RW.8, Pejaten Bar., Ps. Minggu, Kota Jakarta Selatan, Daerah Khusus Ibukota Jakarta 12510, Indonesia                    Makanan ini terbuat dari nasi yang dicampur dengan telur dan serundeng, dimasak dengan cara dibakar di atas tungku api 106.828239 -6.268715  7.747108        1\n",
            "           173        173           7           31                             Kerak telor mpok ayu  Rp.15.000 - R30.000                                         Jl :prumpung barat. Rt:09/05 rawa bunga, jatinegara No 10, RT.9/RW.5, Rw. Bunga, Jakarta, Kota Jakarta Timur, Daerah Khusus Ibukota Jakarta 13350, Indonesia                    Makanan ini terbuat dari nasi yang dicampur dengan telur dan serundeng, dimasak dengan cara dibakar di atas tungku api 106.872424 -6.221385  6.606406        0\n",
            "           174        174           7           31                         Kerak Telor Tunas Betawi  Rp.15.000 - R30.000                                                                   h Nasir rt002/002 no.28c, RT.2/RW.2, Srengseng, Kec. Kembangan, Kota Jakarta Barat, Daerah Khusus Ibukota Jakarta 11630, Indonesia                    Makanan ini terbuat dari nasi yang dicampur dengan telur dan serundeng, dimasak dengan cara dibakar di atas tungku api 106.756045 -6.204854  6.722991        2\n",
            "           175        175           7           31                  Kerak Telor Khas Betawi Al Aziz  Rp.15.000 - R30.000                                          prapatan SMK 32, Jl. Tebet Barat Dalam Raya, RT.20/RW.1, Tebet dalam raya, Kec. Tebet, Kota Jakarta Selatan, Daerah Khusus Ibukota Jakarta 12810, Indonesia                    Makanan ini terbuat dari nasi yang dicampur dengan telur dan serundeng, dimasak dengan cara dibakar di atas tungku api 106.849835 -6.229605  4.927510        0\n",
            "           176        176           7           31          Kerak Telor Bang Doel, Sejak Tahun 2000  Rp.15.000 - R30.000                                                           Jl. Pintu Air Raya No.68 6, RT.6/RW.1, Ps. Baru, Kecamatan Sawah Besar, Kota Jakarta Pusat, Daerah Khusus Ibukota Jakarta 10710, Indonesia                    Makanan ini terbuat dari nasi yang dicampur dengan telur dan serundeng, dimasak dengan cara dibakar di atas tungku api 106.832664 -6.163369  4.440561        2\n",
            "           177        177           7           31                   Kerak Telor Babeh Abdul Rohman  Rp.15.000 - R30.000                                                                              Jakarta Pusat 2 5, RT.2/RW.5, Menteng, Kec. Menteng, Kota Jakarta Pusat, Daerah Khusus Ibukota Jakarta 10310, Indonesia                    Makanan ini terbuat dari nasi yang dicampur dengan telur dan serundeng, dimasak dengan cara dibakar di atas tungku api 106.828330 -6.197719  1.314104        2\n",
            "           178        179           7           31                               Bang egg crust Roy  Rp.15.000 - R30.000                                                                                                         Jln swadaya pos rt 008/04 no 93, Pulo Gebang, Daerah Khusus Ibukota Jakarta 13950, Indonesia                    Makanan ini terbuat dari nasi yang dicampur dengan telur dan serundeng, dimasak dengan cara dibakar di atas tungku api 106.958910 -6.199406 15.724446        3\n",
            "            20         20           8           31                           Soto Betawi Haji Husen Rp.20.000 - Rp50.000 Jl. Padang Panjang No. 6C Pasar Manggis Setiabudi Jakarta Selatan DKI Jakarta 8 8, RT.8/RW.8, Ps. Manggis, Kecamatan Setiabudi, Kota Jakarta Selatan, Daerah Khusus Ibukota Jakarta 12850, Indonesia                                      Soto ini menggunakan bahan utama jeroan yang dicampur dengan kuah santan dan susu, serta daging sapi 106.844839 -6.213032  3.434958        0\n",
            "            21         21           8           31                             Soto Betawi H. Maruf Rp.20.000 - Rp50.000                                                                   Jl. RP. Soeroso No.36A 2, RT.2/RW.13, Gondangdia, Kec. Menteng, Kota Jakarta Pusat, Daerah Khusus Ibukota Jakarta 10350, Indonesia                                      Soto ini menggunakan bahan utama jeroan yang dicampur dengan kuah santan dan susu, serta daging sapi 106.835961 -6.191948  2.313269        2\n",
            "            22         22           8           31                         Soto Betawi Mpok Rodemah Rp.20.000 - Rp50.000                                                               Jl. Ciputat Raya No.29 1, RT.1/RW.12, Pd. Pinang, Kec. Kby. Lama, Kota Jakarta Selatan, Daerah Khusus Ibukota Jakarta 12310, Indonesia                                      Soto ini menggunakan bahan utama jeroan yang dicampur dengan kuah santan dan susu, serta daging sapi 106.775220 -6.271121  9.139453        1\n",
            "           157        157           8           31                          Soto Betawi Globe H.Oji Rp.20.000 - Rp50.000                                                                   Jl. Samanhudi No.4, RT.1/RW.3, Ps. Baru, Kecamatan Sawah Besar, Kota Jakarta Pusat, Daerah Khusus Ibukota Jakarta 10710, Indonesia                                      Soto ini menggunakan bahan utama jeroan yang dicampur dengan kuah santan dan susu, serta daging sapi 106.833138 -6.161190  4.683931        2\n",
            "           158        158           8           31                                      Soto Betawi Rp.20.000 - Rp50.000                                                                     9, Jl. Salemba Tengah No.65c, RT.9/RW.8, Paseban, Kec. Senen, Kota Jakarta Pusat, Daerah Khusus Ibukota Jakarta 10440, Indonesia                                      Soto ini menggunakan bahan utama jeroan yang dicampur dengan kuah santan dan susu, serta daging sapi 106.855974 -6.193366  4.407481        0\n",
            "           159        159           8           31 Soto dan Sop Khas Betawi Bang Nawi Tanjung Duren Rp.20.000 - Rp50.000                                                Jl. Tanjung Duren Raya No.362, RT.7/RW.3, Tj. Duren Utara, Kec. Grogol petamburan, Kota Jakarta Barat, Daerah Khusus Ibukota Jakarta 11470, Indonesia                                      Soto ini menggunakan bahan utama jeroan yang dicampur dengan kuah santan dan susu, serta daging sapi 106.783171 -6.173622  4.723735        2\n",
            "           160        160           8           31                            Soto Betawi H. Ma ruf Rp.20.000 - Rp50.000                                                      Wisma Tebet Raya, Jl. Tebet Raya No.23, RT.1/RW.2, Tebet Tim., Kec. Tebet, Kota Jakarta Selatan, Daerah Khusus Ibukota Jakarta 12820, Indonesia                                      Soto ini menggunakan bahan utama jeroan yang dicampur dengan kuah santan dan susu, serta daging sapi 106.852856 -6.229587  5.179533        0\n",
            "           161        161           8           31                             SOTO BETAWI H. YAKUB Rp.20.000 - Rp50.000                                                                 QQ7H+5R8, Jl. Kb. Mangga 4, RT.1/RW.2, Cipulir, Kec. Kby. Lama, Kota Jakarta Selatan, Daerah Khusus Ibukota Jakarta 12230, Indonesia                                      Soto ini menggunakan bahan utama jeroan yang dicampur dengan kuah santan dan susu, serta daging sapi 106.779571 -6.237116  5.817834        1\n",
            "           162        162           8           31                           Soto Betawi Rawamangun Rp.20.000 - Rp50.000                                                              Jl. Tenggiri No 18A RT.007/RW.06 Rawamangun, Jati, Kec. Pulo Gadung, Kota Jakarta Timur, Daerah Khusus Ibukota Jakarta 13220, Indonesia                                      Soto ini menggunakan bahan utama jeroan yang dicampur dengan kuah santan dan susu, serta daging sapi 106.893923 -6.200472  8.540497        0\n",
            "           163        163           8           31                            Soto Betawi H. Ma ruf Rp.20.000 - Rp50.000                                                                                Jl. Pramuka No.64, Utan Kayu Utara, Kec. Matraman, Kota Jakarta Timur, Daerah Khusus Ibukota Jakarta 10330, Indonesia                                      Soto ini menggunakan bahan utama jeroan yang dicampur dengan kuah santan dan susu, serta daging sapi 106.864649 -6.193067  5.360022        0\n",
            "           164        164           8           31                           Soto Betawi Bang Ujang Rp.20.000 - Rp50.000                                                                      1, Jl. Kyai Maja No.53, RT.1/RW.3, Gunung, Kec. Kby. Baru, Kota Jakarta Selatan, Daerah Khusus Ibukota Jakarta 12120, Indonesia                                      Soto ini menggunakan bahan utama jeroan yang dicampur dengan kuah santan dan susu, serta daging sapi 106.790046 -6.241493  5.472296        1\n",
            "           165        165           8           31                           Soto Betawi Haji Mamat Rp.20.000 - Rp50.000                                                            Jl. Mandala Raya No.10 13, RT.13/RW.5, Tomang, Kec. Grogol petamburan, Kota Jakarta Barat, Daerah Khusus Ibukota Jakarta 11440, Indonesia                                      Soto ini menggunakan bahan utama jeroan yang dicampur dengan kuah santan dan susu, serta daging sapi 106.799295 -6.176088  3.279834        2\n",
            "           166        166           8           31                      SOTO ROXY BETAWI H. DARWASA Rp.20.000 - Rp50.000                                                                             Jl. Tidore No.2, RT.1/RW.5, Cideng, Kecamatan Gambir, Kota Jakarta Pusat, Daerah Khusus Ibukota Jakarta 10150, Indonesia                                      Soto ini menggunakan bahan utama jeroan yang dicampur dengan kuah santan dan susu, serta daging sapi 106.807545 -6.166637  3.844382        2\n",
            "           167        167           8           31                            Soto Betawi Bang Udin Rp.20.000 - Rp50.000                                                                                                             Jl. Lapangan Tembak Cibubur RT 10/2 No.4, Daerah Khusus Ibukota Jakarta 13720, Indonesia                                      Soto ini menggunakan bahan utama jeroan yang dicampur dengan kuah santan dan susu, serta daging sapi 106.877955 -6.350942 18.099496        4\n",
            "           168        168           8           31                       Soto Betawi Sambung Nikmat Rp.20.000 - Rp50.000                                                                   Jl. Ciputat Raya No.2, RT.8/RW.6, Pd. Pinang, Kec. Kby. Lama, Kota Jakarta Selatan, Daerah Khusus Ibukota Jakarta 12310, Indonesia                                      Soto ini menggunakan bahan utama jeroan yang dicampur dengan kuah santan dan susu, serta daging sapi 106.772941 -6.276953  9.827432        1\n",
            "           169        169           8           31                           Soto Betawi Bang Sawit Rp.20.000 - Rp50.000                                                          Jl. H. R. Rasuna Said, RT.2/RW.5, Karet Kuningan, Kecamatan Setiabudi, Kota Jakarta Selatan, Daerah Khusus Ibukota Jakarta 12940, Indonesia                                      Soto ini menggunakan bahan utama jeroan yang dicampur dengan kuah santan dan susu, serta daging sapi 106.834568 -6.218556  2.858937        0\n",
            "           170        170           8           31                            Soto Betawi Bang Nawi Rp.20.000 - Rp50.000                                                             Jl. Kh MAS Mansyur Gg. Riban No.1, Kb. Melati, Kecamatan Tanah Abang, Kota Jakarta Pusat, Daerah Khusus Ibukota Jakarta 10230, Indonesia                                      Soto ini menggunakan bahan utama jeroan yang dicampur dengan kuah santan dan susu, serta daging sapi 106.816020 -6.196520  0.393493        2\n",
            "            23         23           9           31                  Asinan Betawi H.Mansyur Kamboja Rp.15.000 - Rp40.000                                                              Jl. Taman Kamboja No.10 8, RT.8/RW.11, Rawamangun, Kec. Pulo Gadung, Kota Jakarta Timur, Daerah Khusus Ibukota Jakarta 13220, Indonesia Terbuat dari saus kacang dengan beragam sayuran mentah seperti tauge, sawi, dan kubis, disiram dengan kuah gula merah yang dicampur cabai 106.884973 -6.200867  7.551575        0\n",
            "            24         24           9           31           Asinan Betawi Asymuni/H. Udin/Hj. Tati Rp.15.000 - Rp40.000                                                                                                Jalan Pisangan Baru RT 002, RW05 No.31, Kec. Matraman, Daerah Khusus Ibukota Jakarta 13110, Indonesia Terbuat dari saus kacang dengan beragam sayuran mentah seperti tauge, sawi, dan kubis, disiram dengan kuah gula merah yang dicampur cabai 106.867136 -6.211622  5.726837        0\n",
            "            25         25           9           31                         Asinan Betawi Bang Sawal Rp.15.000 - Rp40.000                                                       Jl. Arjuna Utara No.12, RT.12/RW.1, Tj. Duren Sel., Kec. Grogol petamburan, Kota Jakarta Barat, Daerah Khusus Ibukota Jakarta 11470, Indonesia Terbuat dari saus kacang dengan beragam sayuran mentah seperti tauge, sawi, dan kubis, disiram dengan kuah gula merah yang dicampur cabai 106.792234 -6.182204  3.348200        2\n",
            "            26         26          10           31            Ketoprak Ciragil & Baso, Siomay Jhony Rp.15.000 - Rp30.000                                                                     Jl. Cikatomas 1 No.29, RT.5/RW.1, Rw. Bar., Kec. Kby. Baru, Kota Jakarta Selatan, Daerah Khusus Ibukota Jakarta 12180, Indonesia                                                                                          Terdiri dari bihun, kecambah, mentimun, dan tahu 106.810392 -6.237174  4.191337        1\n",
            "            27         27          11           31                        Gado Gado Taman Sari Raya Rp.15.000 - Rp30.000                                                                   Jl. Taman Sari No.65 12, RT.12/RW.1, Kota Tua, Kec. Taman Sari, Kota Jakarta Barat, Daerah Khusus Ibukota Jakarta 11150, Indonesia                            Salad tradisional Indonesia yang terdiri dari sayuran rebus, telur, tahu, tempe, dilengkapi dengan saus kacang 106.826891 -6.152821  5.366464        2\n",
            "            28         28          11           31                                Gado-Gado Kartika Rp.15.000 - Rp30.000                                                                     Jl. Sekolah Duta V, RT.3/RW.14, Pd. Pinang, Kec. Kby. Lama, Kota Jakarta Selatan, Daerah Khusus Ibukota Jakarta 12310, Indonesia                            Salad tradisional Indonesia yang terdiri dari sayuran rebus, telur, tahu, tempe, dilengkapi dengan saus kacang 106.781838 -6.286038 10.312502        1\n",
            "            29         29          11           31                    Gado-Gado Cemara (Sejak 1947) Rp.15.000 - Rp30.000                                            Jalan Tanah Abang 5 No.36 Gambir RT.13, 14, RT.14/RW.4, Petojo Sel., Kecamatan Gambir, Kota Jakarta Pusat, Daerah Khusus Ibukota Jakarta 10160, Indonesia                            Salad tradisional Indonesia yang terdiri dari sayuran rebus, telur, tahu, tempe, dilengkapi dengan saus kacang 106.813638 -6.179446  2.309883        2\n"
          ]
        }
      ]
    },
    {
      "cell_type": "code",
      "source": [
        "# Menyimpan bobot model ke file HDF5\n",
        "model.save(\"model.h5\")"
      ],
      "metadata": {
        "colab": {
          "base_uri": "https://localhost:8080/"
        },
        "id": "3h6y0N5-a2Jn",
        "outputId": "ebccd51d-8f56-4f6c-c49b-4210bd0611eb"
      },
      "execution_count": 37,
      "outputs": [
        {
          "output_type": "stream",
          "name": "stderr",
          "text": [
            "/usr/local/lib/python3.10/dist-packages/keras/src/engine/training.py:3103: UserWarning: You are saving your model as an HDF5 file via `model.save()`. This file format is considered legacy. We recommend using instead the native Keras format, e.g. `model.save('my_model.keras')`.\n",
            "  saving_api.save_model(\n"
          ]
        }
      ]
    },
    {
      "cell_type": "code",
      "source": [
        "SRC = '/content/model.h5'"
      ],
      "metadata": {
        "id": "eXbFLsEKbs80"
      },
      "execution_count": 38,
      "outputs": []
    },
    {
      "cell_type": "code",
      "source": [
        "new_model = tf.keras.models.load_model(SRC)\n",
        "\n",
        "# Check its architecture\n",
        "new_model.summary()"
      ],
      "metadata": {
        "colab": {
          "base_uri": "https://localhost:8080/"
        },
        "id": "X7f0HRsVa410",
        "outputId": "33638fa2-bbfd-4830-95a2-53934daec6a8"
      },
      "execution_count": 39,
      "outputs": [
        {
          "output_type": "stream",
          "name": "stdout",
          "text": [
            "Model: \"sequential_1\"\n",
            "_________________________________________________________________\n",
            " Layer (type)                Output Shape              Param #   \n",
            "=================================================================\n",
            " dense_3 (Dense)             (None, 128)               384       \n",
            "                                                                 \n",
            " dense_4 (Dense)             (None, 64)                8256      \n",
            "                                                                 \n",
            " dense_5 (Dense)             (None, 5)                 325       \n",
            "                                                                 \n",
            "=================================================================\n",
            "Total params: 8965 (35.02 KB)\n",
            "Trainable params: 8965 (35.02 KB)\n",
            "Non-trainable params: 0 (0.00 Byte)\n",
            "_________________________________________________________________\n"
          ]
        }
      ]
    },
    {
      "cell_type": "code",
      "source": [
        "converter = tf.lite.TFLiteConverter.from_keras_model(model)\n",
        "tflite_model = converter.convert()\n",
        "\n",
        "with open('model.tflite', 'wb') as f:\n",
        "    f.write(tflite_model)"
      ],
      "metadata": {
        "id": "iAh3wOtp6TJl"
      },
      "execution_count": 41,
      "outputs": []
    }
  ],
  "metadata": {
    "colab": {
      "provenance": [],
      "gpuType": "T4"
    },
    "kernelspec": {
      "display_name": "Python 3",
      "name": "python3"
    },
    "language_info": {
      "name": "python"
    },
    "accelerator": "GPU"
  },
  "nbformat": 4,
  "nbformat_minor": 0
}